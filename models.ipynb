{
 "cells": [
  {
   "cell_type": "code",
   "execution_count": 1,
   "metadata": {},
   "outputs": [],
   "source": [
    "import torch.nn as nn\n",
    "import torch.nn.functional as F"
   ]
  },
  {
   "cell_type": "code",
   "execution_count": 3,
   "metadata": {},
   "outputs": [],
   "source": [
    "class Net(nn.Module):\n",
    "    def __init__(self):\n",
    "        super(Net, self).__init__()\n",
    "        #self.conv1 = BinarizeConv2d(1, 6, 5)\n",
    "        #self.conv2 = BinarizeConv2d(6, 16, 5)\n",
    "        \n",
    "        self.infl_ratio=3\n",
    "        self.fc1 = BinarizeLinear(784, 2048*self.infl_ratio)\n",
    "        self.htanh1 = nn.Hardtanh()\n",
    "        self.bn1 = nn.BatchNorm1d(2048*self.infl_ratio)\n",
    "        #self.fc1 = BinarizeLinear(256, 120)\n",
    "        #self.bn1 = nn.BatchNorm1d(120)\n",
    "        \n",
    "        self.fc2 = BinarizeLinear(2048*self.infl_ratio, 2048*self.infl_ratio)\n",
    "        self.htanh2 = nn.Hardtanh()\n",
    "        self.bn2 = nn.BatchNorm1d(2048*self.infl_ratio)\n",
    "        #self.fc2 = BinarizeLinear(120, 84)\n",
    "        #self.bn2 = nn.BatchNorm1d(84)\n",
    "        \n",
    "        self.fc3 = BinarizeLinear(2048*self.infl_ratio, 2048*self.infl_ratio)\n",
    "        self.htanh3 = nn.Hardtanh()\n",
    "        self.bn3 = nn.BatchNorm1d(2048*self.infl_ratio)\n",
    "        #self.fc3 = BinarizeLinear(84, 10)\n",
    "        \n",
    "        self.fc4 = nn.Linear(2048*self.infl_ratio, 10)\n",
    "        \n",
    "        self.logsoftmax=nn.LogSoftmax()\n",
    "        self.drop=nn.Dropout(0.5)\n",
    "        \n",
    "\n",
    "    def forward(self, x):        \n",
    "        #x = F.max_pool2d(F.hardtanh(self.conv1(x)), (2, 2))\n",
    "        #x = F.max_pool2d(F.hardtanh(self.conv2(x)), (2, 2))\n",
    "                \n",
    "        #x = x.view(-1, self.num_flat_features(x))\n",
    "        x = x.view(-1, 28*28)\n",
    "        x = self.fc1(x)\n",
    "        x = self.bn1(x)\n",
    "        x = self.htanh1(x)\n",
    "        #x = F.hardtanh(x)\n",
    "        \n",
    "        x = self.fc2(x)\n",
    "        x = self.bn2(x)\n",
    "        x = self.htanh2(x)\n",
    "        #x = F.hardtanh(x)\n",
    "        \n",
    "        x = self.fc3(x)\n",
    "        x = self.drop(x)\n",
    "        x = self.bn3(x)\n",
    "        x = self.htanh3(x)\n",
    "        \n",
    "        x = self.fc4(x)\n",
    "        \n",
    "        return self.logsoftmax(x)\n",
    "        #return x\n",
    "        \n",
    "    def num_flat_features(self, x):\n",
    "        return np.prod(x.size()[1:])\n",
    "        "
   ]
  },
  {
   "cell_type": "code",
   "execution_count": null,
   "metadata": {},
   "outputs": [],
   "source": []
  },
  {
   "cell_type": "code",
   "execution_count": null,
   "metadata": {},
   "outputs": [],
   "source": []
  }
 ],
 "metadata": {
  "kernelspec": {
   "display_name": "Python 3",
   "language": "python",
   "name": "python3"
  },
  "language_info": {
   "codemirror_mode": {
    "name": "ipython",
    "version": 3
   },
   "file_extension": ".py",
   "mimetype": "text/x-python",
   "name": "python",
   "nbconvert_exporter": "python",
   "pygments_lexer": "ipython3",
   "version": "3.6.8"
  }
 },
 "nbformat": 4,
 "nbformat_minor": 2
}
