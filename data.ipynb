{
 "cells": [
  {
   "cell_type": "code",
   "execution_count": 2,
   "metadata": {},
   "outputs": [],
   "source": [
    "import torch\n",
    "import torchvision.datasets as datasets\n",
    "import torchvision.transforms as transforms\n",
    "from torch.utils.data import DataLoader as DataLoader\n",
    "import torch.nn as nn\n",
    "from torch.autograd import Variable\n",
    "import torch.nn.functional as F\n",
    "import torch.optim as optim\n",
    "import os"
   ]
  },
  {
   "cell_type": "code",
   "execution_count": 3,
   "metadata": {},
   "outputs": [],
   "source": [
    "path = \"~/binarized-neural-network/\"\n",
    "\n",
    "\n",
    "def create_dataloader(name):\n",
    "    train, test = None, None\n",
    "    \n",
    "    if name == \"MNIST\":\n",
    "        directory = path + \"mnist/\"\n",
    "        \n",
    "        train = datasets.MNIST(root=directory, train=True,\n",
    "                                 transform=transforms.Compose([transforms.ToTensor(),\n",
    "                                                               transforms.Normalize((0.1307,), (0.3081,))]),\n",
    "                                 download=True)\n",
    "        test = datasets.MNIST(root=directory, train=False,\n",
    "                                transform=transforms.Compose([transforms.ToTensor(),\n",
    "                                                               transforms.Normalize((0.1307,), (0.3081,))]),\n",
    "                                download=True)\n",
    "        \n",
    "        train_loader = DataLoader(train, batch_size=256, shuffle=True, pin_memory=True)\n",
    "        test_loader = DataLoader(test, batch_size=1000, pin_memory=True)\n",
    "                                 \n",
    "    return train_loader, test_loader"
   ]
  },
  {
   "cell_type": "code",
   "execution_count": 4,
   "metadata": {},
   "outputs": [],
   "source": [
    "train_loader, test_loader = create_dataloader('MNIST')"
   ]
  },
  {
   "cell_type": "code",
   "execution_count": null,
   "metadata": {},
   "outputs": [],
   "source": []
  },
  {
   "cell_type": "code",
   "execution_count": null,
   "metadata": {},
   "outputs": [],
   "source": []
  }
 ],
 "metadata": {
  "kernelspec": {
   "display_name": "Python 3",
   "language": "python",
   "name": "python3"
  },
  "language_info": {
   "codemirror_mode": {
    "name": "ipython",
    "version": 3
   },
   "file_extension": ".py",
   "mimetype": "text/x-python",
   "name": "python",
   "nbconvert_exporter": "python",
   "pygments_lexer": "ipython3",
   "version": "3.6.8"
  }
 },
 "nbformat": 4,
 "nbformat_minor": 2
}
