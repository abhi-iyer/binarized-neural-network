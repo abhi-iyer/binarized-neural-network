{
 "cells": [
  {
   "cell_type": "code",
   "execution_count": 1,
   "metadata": {},
   "outputs": [],
   "source": [
    "import torch\n",
    "import torch.nn as nn\n",
    "from torch.autograd import Variable\n",
    "import torch.nn.functional as F\n",
    "import torch.optim as optim\n",
    "import math\n",
    "from torch.autograd import Function\n",
    "import numpy as np\n",
    "import os\n",
    "from torchvision import datasets as datasets\n",
    "from torchvision import transforms as transforms\n",
    "from torch.utils.data import DataLoader as DataLoader\n",
    "from math import ceil, floor\n",
    "\n",
    "from tools import *\n",
    "from encoding import *\n",
    "from models import *\n",
    "from bnn import *"
   ]
  },
  {
   "cell_type": "code",
   "execution_count": 2,
   "metadata": {
    "scrolled": false
   },
   "outputs": [
    {
     "name": "stdout",
     "output_type": "stream",
     "text": [
      "Start/Continue training from epoch 10\n",
      "Finish training for 10 epochs\n"
     ]
    }
   ],
   "source": [
    "mnist = BNN(name=\"MNIST\", output_dir=\"mnist_logs/\")\n",
    "mnist.train()"
   ]
  },
  {
   "cell_type": "code",
   "execution_count": 3,
   "metadata": {},
   "outputs": [],
   "source": [
    "verify_net(mnist.net)\n",
    "\n",
    "# manual_acc(mnist.net, mnist.train_loader)"
   ]
  },
  {
   "cell_type": "code",
   "execution_count": 4,
   "metadata": {},
   "outputs": [],
   "source": [
    "decomp = decompose_net(mnist.net)\n",
    "linear, bn = decomp['linear'], decomp['bn']\n",
    "\n",
    "D = lower_bound(mnist.net)"
   ]
  },
  {
   "cell_type": "code",
   "execution_count": null,
   "metadata": {},
   "outputs": [],
   "source": []
  },
  {
   "cell_type": "code",
   "execution_count": 9,
   "metadata": {},
   "outputs": [],
   "source": [
    "def r_value(row, m, C):\n",
    "    return int((row[:m] == 1).sum().item() >= C)\n",
    "\n",
    "def make_bool(mat):\n",
    "    mat = mat.cpu().detach().numpy()\n",
    "    \n",
    "    return ((mat + 1)/2).astype(int)"
   ]
  },
  {
   "cell_type": "code",
   "execution_count": 10,
   "metadata": {},
   "outputs": [],
   "source": [
    "from functools import *\n",
    "from collections import defaultdict"
   ]
  },
  {
   "cell_type": "code",
   "execution_count": 52,
   "metadata": {
    "scrolled": true
   },
   "outputs": [
    {
     "name": "stderr",
     "output_type": "stream",
     "text": [
      "IOPub data rate exceeded.\n",
      "The notebook server will temporarily stop sending output\n",
      "to the client in order to avoid crashing it.\n",
      "To change this limit, set the config variable\n",
      "`--NotebookApp.iopub_data_rate_limit`.\n",
      "\n",
      "Current values:\n",
      "NotebookApp.iopub_data_rate_limit=1000000.0 (bytes/sec)\n",
      "NotebookApp.rate_limit_window=3.0 (secs)\n",
      "\n"
     ]
    },
    {
     "name": "stdout",
     "output_type": "stream",
     "text": [
      "0\n",
      "1\n",
      "2\n",
      "3\n",
      "4\n"
     ]
    },
    {
     "ename": "KeyboardInterrupt",
     "evalue": "",
     "output_type": "error",
     "traceback": [
      "\u001b[0;31m---------------------------------------------------------------------------\u001b[0m",
      "\u001b[0;31mKeyboardInterrupt\u001b[0m                         Traceback (most recent call last)",
      "\u001b[0;32m<ipython-input-52-5cc613c142cc>\u001b[0m in \u001b[0;36m<module>\u001b[0;34m\u001b[0m\n\u001b[1;32m     27\u001b[0m         \u001b[0;32massert\u001b[0m \u001b[0mr_value\u001b[0m\u001b[0;34m(\u001b[0m\u001b[0mcnf_inp\u001b[0m\u001b[0;34m,\u001b[0m \u001b[0;36m784\u001b[0m\u001b[0;34m,\u001b[0m \u001b[0mD\u001b[0m\u001b[0;34m[\u001b[0m\u001b[0;36m0\u001b[0m\u001b[0;34m]\u001b[0m\u001b[0;34m[\u001b[0m\u001b[0;36m0\u001b[0m\u001b[0;34m]\u001b[0m\u001b[0;34m)\u001b[0m \u001b[0;34m==\u001b[0m \u001b[0mreal_output\u001b[0m \u001b[0;31m# check that r(784, D) works\u001b[0m\u001b[0;34m\u001b[0m\u001b[0;34m\u001b[0m\u001b[0m\n\u001b[1;32m     28\u001b[0m \u001b[0;34m\u001b[0m\u001b[0m\n\u001b[0;32m---> 29\u001b[0;31m         \u001b[0;32mif\u001b[0m \u001b[0;32mnot\u001b[0m \u001b[0mcheck_encoding\u001b[0m\u001b[0;34m(\u001b[0m\u001b[0mcnf_inp\u001b[0m\u001b[0;34m,\u001b[0m \u001b[0mcnf\u001b[0m\u001b[0;34m)\u001b[0m\u001b[0;34m:\u001b[0m\u001b[0;34m\u001b[0m\u001b[0;34m\u001b[0m\u001b[0m\n\u001b[0m\u001b[1;32m     30\u001b[0m             \u001b[0mprint\u001b[0m\u001b[0;34m(\u001b[0m\u001b[0;34m\"Unsatisfiable.\"\u001b[0m\u001b[0;34m)\u001b[0m\u001b[0;34m\u001b[0m\u001b[0;34m\u001b[0m\u001b[0m\n\u001b[1;32m     31\u001b[0m \u001b[0;34m\u001b[0m\u001b[0m\n",
      "\u001b[0;32m<ipython-input-43-e4608d9d1e0d>\u001b[0m in \u001b[0;36mcheck_encoding\u001b[0;34m(row, cnf)\u001b[0m\n\u001b[1;32m     17\u001b[0m     \u001b[0;32mfor\u001b[0m \u001b[0mclause\u001b[0m \u001b[0;32min\u001b[0m \u001b[0mcnf\u001b[0m\u001b[0;34m.\u001b[0m\u001b[0msplit\u001b[0m\u001b[0;34m(\u001b[0m\u001b[0;34m'0\\n'\u001b[0m\u001b[0;34m)\u001b[0m\u001b[0;34m:\u001b[0m\u001b[0;34m\u001b[0m\u001b[0;34m\u001b[0m\u001b[0m\n\u001b[1;32m     18\u001b[0m \u001b[0;34m\u001b[0m\u001b[0m\n\u001b[0;32m---> 19\u001b[0;31m         \u001b[0;32mif\u001b[0m \u001b[0mclause\u001b[0m \u001b[0;34m==\u001b[0m \u001b[0;34m''\u001b[0m\u001b[0;34m:\u001b[0m\u001b[0;34m\u001b[0m\u001b[0;34m\u001b[0m\u001b[0m\n\u001b[0m\u001b[1;32m     20\u001b[0m             \u001b[0;32mcontinue\u001b[0m\u001b[0;34m\u001b[0m\u001b[0;34m\u001b[0m\u001b[0m\n\u001b[1;32m     21\u001b[0m \u001b[0;34m\u001b[0m\u001b[0m\n",
      "\u001b[0;31mKeyboardInterrupt\u001b[0m: "
     ]
    }
   ],
   "source": [
    "A = linear[0]['weight'][0,:]\n",
    "b = linear[0]['bias'].unsqueeze(1)[0]\n",
    "\n",
    "variables = create_vocabulary([linear[0]['weight']], [0], D)\n",
    "assert (D[0][0]*784 + 784) == len(variables)\n",
    "cnf = constraints(linear[0]['weight'], 1, 0, D)\n",
    "\n",
    "for i, (data, target) in enumerate(mnist.test_loader):\n",
    "    data = data.cuda()\n",
    "    \n",
    "    manual = data.view(mnist.train_loader.batch_size, -1, 1)\n",
    "    manual = binarize(manual)\n",
    "            \n",
    "    for j in range(1):\n",
    "        inp = manual[j]\n",
    "                \n",
    "        ## neural network approach\n",
    "        layer1 = torch.matmul(A, inp) + b\n",
    "        layer1 = bn[0]['scale'][0] * ((layer1 - bn[0]['mean'][0]) / bn[0]['std'][0]) + bn[0]['bias'][0]\n",
    "        layer1 = binarize(layer1)\n",
    "        real_output = ((layer1.squeeze() + 1)/2).item()\n",
    "        \n",
    "        ## cnf approach        \n",
    "        cnf_inp = torch.Tensor(list(map(lambda x,y : (x | (not y)) & ((not x) | y), \n",
    "                                        make_bool(A), make_bool(inp))))\n",
    "        \n",
    "        assert r_value(cnf_inp, 784, D[0][0]) == real_output # check that r(784, D) works\n",
    "        \n",
    "        if not check_encoding(cnf_inp, cnf):\n",
    "            print(\"Unsatisfiable.\")"
   ]
  },
  {
   "cell_type": "code",
   "execution_count": 40,
   "metadata": {
    "scrolled": true
   },
   "outputs": [],
   "source": [
    "fmt_x = \"x%d,%d,%d\" # block, row, col\n",
    "fmt_r = \"r%d,%d,%d,%d\" # block, row, col (m), C value\n",
    "\n",
    "def create_vocabulary(matrices, blocks, D):\n",
    "    variables = dict()\n",
    "    var_idx = 1\n",
    "\n",
    "    for b, mat in zip(blocks, matrices):\n",
    "        mat = make_bool(mat)\n",
    "        \n",
    "        for row in range(1):\n",
    "            for col in range(mat.shape[1]):\n",
    "                variables[fmt_x % (b, row, col)] = var_idx\n",
    "                var_idx += 1\n",
    "\n",
    "                for C in range(1, D[b][row] + 1):\n",
    "                    variables[fmt_r % (b, row, col+1, C)] = var_idx\n",
    "                    var_idx += 1\n",
    "    \n",
    "    return variables"
   ]
  },
  {
   "cell_type": "code",
   "execution_count": 41,
   "metadata": {},
   "outputs": [],
   "source": [
    "def convert_to_dimacs(cnf_str, variables):\n",
    "    cnf_str = cnf_str.strip().rstrip('*').split('*')\n",
    "    cnf_list = list(map(lambda x : x.strip().replace('|', ' '), cnf_str))\n",
    "        \n",
    "    print('\\n'.join(cnf_list))\n",
    "    \n",
    "    ret = ''\n",
    "    \n",
    "    for clause in cnf_list:\n",
    "        no_neg_clause = clause.replace(\"-\", \"\")\n",
    "        \n",
    "        for literal in no_neg_clause.split():\n",
    "            clause = clause.replace(literal, str(variables[literal]))\n",
    "        \n",
    "        ret += (clause + ' 0\\n')\n",
    "    \n",
    "    return ret"
   ]
  },
  {
   "cell_type": "code",
   "execution_count": null,
   "metadata": {},
   "outputs": [],
   "source": []
  },
  {
   "cell_type": "code",
   "execution_count": null,
   "metadata": {
    "scrolled": false
   },
   "outputs": [],
   "source": []
  },
  {
   "cell_type": "code",
   "execution_count": 42,
   "metadata": {},
   "outputs": [],
   "source": [
    "def constraints(mat, num_rows, block, D):\n",
    "    mat = make_bool(mat)\n",
    "    res = ''\n",
    "    \n",
    "    for row in range(1):\n",
    "        \n",
    "        '''constraint 1'''\n",
    "        x = fmt_x % (block, row, 0)\n",
    "        r = fmt_r % (block, row, 1, 1)\n",
    "        \n",
    "        \n",
    "        res += (x + '|' + '-' + r) + '*'\n",
    "        res += ('-' + x + '|' + r) + '*'\n",
    "        '''end constraint 1'''\n",
    "        \n",
    "        \n",
    "        '''constraint 2'''\n",
    "        for C in range(2, D[block][row] + 1):\n",
    "            r = fmt_r % (block, row, 1, C)\n",
    "            \n",
    "            res += ('-' + r) + '*'\n",
    "        '''end constraint 2'''\n",
    "        \n",
    "        \n",
    "        r = mat[row,:]\n",
    "        \n",
    "        for i in range(2, len(r) + 1):\n",
    "            x = fmt_x % (0, 0, i-1)\n",
    "            xnot = '-' + x\n",
    "\n",
    "            '''constraint 3'''\n",
    "            r1 = fmt_r % (0, 0, i, 1)\n",
    "            r2 = fmt_r % (0, 0, i-1, 1)\n",
    "        \n",
    "            res += ('-' + r1 + '|' + x + '|' + r2) + '*'\n",
    "            res += (xnot + '|' + r1) + '*'\n",
    "            res += ('-' + r2 + '|' + r1) + '*'\n",
    "            '''end constraint 3'''\n",
    "            \n",
    "            for j in range(2, D[block][row] + 1):\n",
    "                \n",
    "                '''constraint 4'''\n",
    "                r1 = fmt_r % (0, 0, i, j)\n",
    "                r2 = fmt_r % (0, 0, i-1, j)\n",
    "                r3 = fmt_r % (0, 0, i-1, j-1)\n",
    "\n",
    "                res += ('-' + r1 + '|' + x + '|' + r2) + '*'\n",
    "                res += ('-' + r1 + '|' + r3 + '|' + r2) + '*'\n",
    "                res += (xnot + '|' + '-' + r3 + '|' + r1) + '*'\n",
    "                res += ('-' + r2 + '|' + r1) + '*'\n",
    "                '''end constraint 4'''\n",
    "    \n",
    "    return convert_to_dimacs(res, variables)"
   ]
  },
  {
   "cell_type": "code",
   "execution_count": 313,
   "metadata": {},
   "outputs": [],
   "source": []
  },
  {
   "cell_type": "code",
   "execution_count": null,
   "metadata": {},
   "outputs": [],
   "source": []
  },
  {
   "cell_type": "code",
   "execution_count": null,
   "metadata": {
    "scrolled": true
   },
   "outputs": [],
   "source": []
  },
  {
   "cell_type": "code",
   "execution_count": 43,
   "metadata": {},
   "outputs": [],
   "source": [
    "def check_encoding(row, cnf): \n",
    "    row = make_bool(row)\n",
    "    \n",
    "    assign = dict()\n",
    "\n",
    "    for key, value in variables.items():\n",
    "        if 'x' in key:\n",
    "            split = key.split(',')\n",
    "            assign[value] = row[int(split[-1])]\n",
    "\n",
    "        if 'r' in key:\n",
    "            split = key.split(',')\n",
    "            assign[value] = r_value(row, int(split[2]), int(split[3]))\n",
    "                                                \n",
    "    ands = 1\n",
    "\n",
    "    for clause in cnf.split('0\\n'):\n",
    "\n",
    "        if clause == '':\n",
    "            continue\n",
    "\n",
    "        ors = 0\n",
    "        for each in clause.strip().split():\n",
    "            if '-' in each:\n",
    "                ors = ors | (not assign[int(each.replace('-', ''))])\n",
    "            else:\n",
    "                ors = ors | assign[int(each)]\n",
    "                \n",
    "        ands = ands & ors\n",
    "\n",
    "    return ands"
   ]
  },
  {
   "cell_type": "code",
   "execution_count": 89,
   "metadata": {},
   "outputs": [],
   "source": []
  },
  {
   "cell_type": "code",
   "execution_count": null,
   "metadata": {
    "scrolled": true
   },
   "outputs": [],
   "source": []
  },
  {
   "cell_type": "code",
   "execution_count": null,
   "metadata": {},
   "outputs": [],
   "source": []
  },
  {
   "cell_type": "code",
   "execution_count": null,
   "metadata": {},
   "outputs": [],
   "source": [
    "# def create_cnf_file(fname, mat, num_rows, block):\n",
    "#     c = constraints(mat, num_rows, block).rstrip('\\n')\n",
    "        \n",
    "#     file = open(fname, 'w+')\n",
    "#     file.write('p cnf ' + str(len(variables)) + ' ' + str(c.count(' 0')) + '\\n')\n",
    "#     file.write(c)\n",
    "#     file.close()\n",
    "    \n",
    "#     return c\n",
    "\n",
    "# cnf = create_cnf_file('./first_row.cnf', linear[0]['weight'], 1, 0)"
   ]
  },
  {
   "cell_type": "code",
   "execution_count": null,
   "metadata": {},
   "outputs": [],
   "source": [
    "# with open('./first_row_solved', 'r') as file:\n",
    "#     solved = file.read().split()\n",
    "\n",
    "# solved = {str(abs(int(i))) : i for i in solved}"
   ]
  },
  {
   "cell_type": "code",
   "execution_count": null,
   "metadata": {},
   "outputs": [],
   "source": []
  },
  {
   "cell_type": "code",
   "execution_count": null,
   "metadata": {},
   "outputs": [],
   "source": []
  }
 ],
 "metadata": {
  "kernelspec": {
   "display_name": "Python 3",
   "language": "python",
   "name": "python3"
  },
  "language_info": {
   "codemirror_mode": {
    "name": "ipython",
    "version": 3
   },
   "file_extension": ".py",
   "mimetype": "text/x-python",
   "name": "python",
   "nbconvert_exporter": "python",
   "pygments_lexer": "ipython3",
   "version": "3.7.3"
  }
 },
 "nbformat": 4,
 "nbformat_minor": 2
}
